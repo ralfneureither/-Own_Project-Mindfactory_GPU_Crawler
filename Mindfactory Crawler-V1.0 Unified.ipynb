{
 "cells": [
  {
   "cell_type": "code",
   "execution_count": 1,
   "metadata": {},
   "outputs": [],
   "source": [
    "import pandas as pd\n",
    "import requests\n",
    "from bs4 import BeautifulSoup as bs\n",
    "import re"
   ]
  },
  {
   "cell_type": "code",
   "execution_count": 2,
   "metadata": {},
   "outputs": [
    {
     "data": {
      "text/plain": [
       "['https://www.mindfactory.de/Hardware/Grafikkarten+(VGA)/GeForce+RTX+fuer+Gaming/RTX+2080+Ti.html',\n",
       " 'https://www.mindfactory.de/Hardware/Grafikkarten+(VGA)/GeForce+RTX+fuer+Gaming/RTX+2080.html',\n",
       " 'https://www.mindfactory.de/Hardware/Grafikkarten+(VGA)/GeForce+RTX+fuer+Gaming/RTX+2080.html/page/2',\n",
       " 'https://www.mindfactory.de/Hardware/Grafikkarten+(VGA)/GeForce+RTX+fuer+Gaming/RTX+2070.html',\n",
       " 'https://www.mindfactory.de/Hardware/Grafikkarten+(VGA)/GeForce+RTX+fuer+Gaming/RTX+2070.html/page/2',\n",
       " 'https://www.mindfactory.de/Hardware/Grafikkarten+(VGA)/GeForce+RTX+fuer+Gaming/RTX+2060.html',\n",
       " 'https://www.mindfactory.de/Hardware/Grafikkarten+(VGA)/GeForce+RTX+fuer+Gaming/RTX+2060.html/page/2',\n",
       " 'https://www.mindfactory.de/Hardware/Grafikkarten+(VGA)/GeForce+RTX+fuer+Gaming/RTX+2060.html/page/3',\n",
       " 'https://www.mindfactory.de/Hardware/Grafikkarten+(VGA)/GeForce+GTX+fuer+Gaming/GTX+1070.html',\n",
       " 'https://www.mindfactory.de/Hardware/Grafikkarten+(VGA)/GeForce+GTX+fuer+Gaming/GTX+1660+Ti.html',\n",
       " 'https://www.mindfactory.de/Hardware/Grafikkarten+(VGA)/GeForce+GTX+fuer+Gaming/GTX+1660.html',\n",
       " 'https://www.mindfactory.de/Hardware/Grafikkarten+(VGA)/GeForce+GTX+fuer+Gaming/GTX+1650.html',\n",
       " 'https://www.mindfactory.de/Hardware/Grafikkarten+(VGA)/GeForce+GTX+fuer+Gaming/GTX+1060.html',\n",
       " 'https://www.mindfactory.de/Hardware/Grafikkarten+(VGA)/GeForce+GTX+fuer+Gaming/GTX+1050+Ti.html',\n",
       " 'https://www.mindfactory.de/Hardware/Grafikkarten+(VGA)/GeForce+GTX+fuer+Gaming/GTX+1050.html',\n",
       " 'https://www.mindfactory.de/Hardware/Grafikkarten+(VGA)/Radeon+RX+Serie/RX+590.html',\n",
       " 'https://www.mindfactory.de/Hardware/Grafikkarten+(VGA)/Radeon+RX+Serie/RX+580.html',\n",
       " 'https://www.mindfactory.de/Hardware/Grafikkarten+(VGA)/Radeon+RX+Serie/RX+570.html',\n",
       " 'https://www.mindfactory.de/Hardware/Grafikkarten+(VGA)/Radeon+RX+Serie/RX+560.html',\n",
       " 'https://www.mindfactory.de/Hardware/Grafikkarten+(VGA)/Radeon+RX+Serie/RX+550.html',\n",
       " 'https://www.mindfactory.de/Hardware/Grafikkarten+(VGA)/Radeon+RX+Serie/RX+5700+XT.html',\n",
       " 'https://www.mindfactory.de/Hardware/Grafikkarten+(VGA)/Radeon+RX+Serie/RX+5700.html',\n",
       " 'https://www.mindfactory.de/Hardware/Grafikkarten+(VGA)/Radeon+RX+VEGA.html',\n",
       " 'https://www.mindfactory.de/Hardware/Grafikkarten+(VGA)/Radeon+VII.html']"
      ]
     },
     "execution_count": 2,
     "metadata": {},
     "output_type": "execute_result"
    }
   ],
   "source": [
    "product_info_dict={\"name\":[],\"no_sold\":[],\"price\":[]} #Grundlage des späteren Pandas DF\n",
    "\n",
    "rtx_urls=[\"https://www.mindfactory.de/Hardware/Grafikkarten+(VGA)/GeForce+RTX+fuer+Gaming/RTX+2080+Ti.html\",\"https://www.mindfactory.de/Hardware/Grafikkarten+(VGA)/GeForce+RTX+fuer+Gaming/RTX+2080.html\",\"https://www.mindfactory.de/Hardware/Grafikkarten+(VGA)/GeForce+RTX+fuer+Gaming/RTX+2080.html/page/2\",\"https://www.mindfactory.de/Hardware/Grafikkarten+(VGA)/GeForce+RTX+fuer+Gaming/RTX+2070.html\",\"https://www.mindfactory.de/Hardware/Grafikkarten+(VGA)/GeForce+RTX+fuer+Gaming/RTX+2070.html/page/2\",\"https://www.mindfactory.de/Hardware/Grafikkarten+(VGA)/GeForce+RTX+fuer+Gaming/RTX+2060.html\",\"https://www.mindfactory.de/Hardware/Grafikkarten+(VGA)/GeForce+RTX+fuer+Gaming/RTX+2060.html/page/2\",\"https://www.mindfactory.de/Hardware/Grafikkarten+(VGA)/GeForce+RTX+fuer+Gaming/RTX+2060.html/page/3\"]\n",
    "gtx_urls=[\"https://www.mindfactory.de/Hardware/Grafikkarten+(VGA)/GeForce+GTX+fuer+Gaming/GTX+1070.html\",\"https://www.mindfactory.de/Hardware/Grafikkarten+(VGA)/GeForce+GTX+fuer+Gaming/GTX+1660+Ti.html\",\"https://www.mindfactory.de/Hardware/Grafikkarten+(VGA)/GeForce+GTX+fuer+Gaming/GTX+1660.html\",\"https://www.mindfactory.de/Hardware/Grafikkarten+(VGA)/GeForce+GTX+fuer+Gaming/GTX+1650.html\",\"https://www.mindfactory.de/Hardware/Grafikkarten+(VGA)/GeForce+GTX+fuer+Gaming/GTX+1060.html\",\"https://www.mindfactory.de/Hardware/Grafikkarten+(VGA)/GeForce+GTX+fuer+Gaming/GTX+1050+Ti.html\",\"https://www.mindfactory.de/Hardware/Grafikkarten+(VGA)/GeForce+GTX+fuer+Gaming/GTX+1050.html\"]\n",
    "polaris_urls=[\"https://www.mindfactory.de/Hardware/Grafikkarten+(VGA)/Radeon+RX+Serie/RX+590.html\",\"https://www.mindfactory.de/Hardware/Grafikkarten+(VGA)/Radeon+RX+Serie/RX+580.html\",\"https://www.mindfactory.de/Hardware/Grafikkarten+(VGA)/Radeon+RX+Serie/RX+570.html\",\"https://www.mindfactory.de/Hardware/Grafikkarten+(VGA)/Radeon+RX+Serie/RX+560.html\",\"https://www.mindfactory.de/Hardware/Grafikkarten+(VGA)/Radeon+RX+Serie/RX+550.html\"]\n",
    "rdna_urls=[\"https://www.mindfactory.de/Hardware/Grafikkarten+(VGA)/Radeon+RX+Serie/RX+5700+XT.html\",\"https://www.mindfactory.de/Hardware/Grafikkarten+(VGA)/Radeon+RX+Serie/RX+5700.html\",]\n",
    "vega_url=\"https://www.mindfactory.de/Hardware/Grafikkarten+(VGA)/Radeon+RX+VEGA.html\"\n",
    "r7_url=\"https://www.mindfactory.de/Hardware/Grafikkarten+(VGA)/Radeon+VII.html\"\n",
    "\n",
    "gpu_cat_urls=[i for i in rtx_urls]+[i for i in gtx_urls]+[i for i in polaris_urls]+[i for i in rdna_urls]\n",
    "gpu_cat_urls.append(vega_url)\n",
    "gpu_cat_urls.append(r7_url)\n",
    "gpu_cat_urls"
   ]
  },
  {
   "cell_type": "code",
   "execution_count": 3,
   "metadata": {},
   "outputs": [],
   "source": [
    "for url in gpu_cat_urls:\n",
    "    http=requests.get(url)\n",
    "    site=bs(http.content,\"html.parser\")\n",
    "    div_list=site.find_all(\"div\",class_=\"pcontent\")\n",
    "    \n",
    "    for element in div_list:\n",
    "        p_link_list=[]\n",
    "        p_link_list.append(element.find_all(\"a\")[0].get(\"href\"))\n",
    "        p_link_list=list(dict.fromkeys(p_link_list))\n",
    "        for product in p_link_list:\n",
    "            product_site=requests.get(product)\n",
    "            product_site_soup=bs(product_site.content,\"html.parser\")\n",
    "            product_info_dict[\"name\"].append(product_site_soup.title.string.split(\"|\")[0].strip())\n",
    "            price_match=product_site_soup.find_all(\"div\",class_=\"pprice\")[0].find_all(\"span\",class_=\"text-currency\")[0].next_sibling.string\n",
    "            price=re.search(r\"(\\d.*\\d+,*\\d+)\",price_match)[0]\n",
    "            product_info_dict[\"price\"].append(price)\n",
    "            try:\n",
    "                zero_sold_test=product_site_soup.find_all(\"div\", class_=\"row mat10 vbottom\")[0].find_all(\"div\", class_=\"psold\")[0]\n",
    "                if \"über\" in str(zero_sold_test):\n",
    "                    product_info_dict[\"no_sold\"].append(product_site_soup.find_all(class_=\"pcountsold\")[0].string)\n",
    "                else:\n",
    "                    product_info_dict[\"no_sold\"].append(\"0\")\n",
    "            except:\n",
    "                product_info_dict[\"no_sold\"].append(\"0\")\n",
    "            "
   ]
  },
  {
   "cell_type": "code",
   "execution_count": 4,
   "metadata": {},
   "outputs": [
    {
     "data": {
      "text/plain": [
       "(365, 3)"
      ]
     },
     "execution_count": 4,
     "metadata": {},
     "output_type": "execute_result"
    }
   ],
   "source": [
    "gpus_df=pd.DataFrame(product_info_dict)\n",
    "gpus_df.shape"
   ]
  },
  {
   "cell_type": "code",
   "execution_count": 5,
   "metadata": {},
   "outputs": [],
   "source": [
    "gpus_df.drop_duplicates(inplace=True)"
   ]
  },
  {
   "cell_type": "code",
   "execution_count": 6,
   "metadata": {},
   "outputs": [
    {
     "data": {
      "text/html": [
       "<div>\n",
       "<style scoped>\n",
       "    .dataframe tbody tr th:only-of-type {\n",
       "        vertical-align: middle;\n",
       "    }\n",
       "\n",
       "    .dataframe tbody tr th {\n",
       "        vertical-align: top;\n",
       "    }\n",
       "\n",
       "    .dataframe thead th {\n",
       "        text-align: right;\n",
       "    }\n",
       "</style>\n",
       "<table border=\"1\" class=\"dataframe\">\n",
       "  <thead>\n",
       "    <tr style=\"text-align: right;\">\n",
       "      <th></th>\n",
       "      <th>name</th>\n",
       "      <th>no_sold</th>\n",
       "      <th>price</th>\n",
       "    </tr>\n",
       "  </thead>\n",
       "  <tbody>\n",
       "    <tr>\n",
       "      <th>0</th>\n",
       "      <td>11GB MSI GeForce RTX 2080 Ti SEA HAWK X Hybrid...</td>\n",
       "      <td>60</td>\n",
       "      <td>1.291,85</td>\n",
       "    </tr>\n",
       "    <tr>\n",
       "      <th>1</th>\n",
       "      <td>11GB Palit GeForce RTX 2080 Ti GamingPro OC Ak...</td>\n",
       "      <td>340</td>\n",
       "      <td>1.129</td>\n",
       "    </tr>\n",
       "    <tr>\n",
       "      <th>2</th>\n",
       "      <td>11GB Palit GeForce RTX 2080 Ti Dual Aktiv PCIe...</td>\n",
       "      <td>430</td>\n",
       "      <td>1.069</td>\n",
       "    </tr>\n",
       "    <tr>\n",
       "      <th>3</th>\n",
       "      <td>11GB KFA2 GeForce RTX 2080 Ti EX (1-Click OC) ...</td>\n",
       "      <td>80</td>\n",
       "      <td>1.039</td>\n",
       "    </tr>\n",
       "    <tr>\n",
       "      <th>4</th>\n",
       "      <td>11GB Gainward GeForce RTX 2080 Ti Phoenix Akti...</td>\n",
       "      <td>130</td>\n",
       "      <td>1.157,85</td>\n",
       "    </tr>\n",
       "  </tbody>\n",
       "</table>\n",
       "</div>"
      ],
      "text/plain": [
       "                                                name no_sold     price\n",
       "0  11GB MSI GeForce RTX 2080 Ti SEA HAWK X Hybrid...      60  1.291,85\n",
       "1  11GB Palit GeForce RTX 2080 Ti GamingPro OC Ak...     340     1.129\n",
       "2  11GB Palit GeForce RTX 2080 Ti Dual Aktiv PCIe...     430     1.069\n",
       "3  11GB KFA2 GeForce RTX 2080 Ti EX (1-Click OC) ...      80     1.039\n",
       "4  11GB Gainward GeForce RTX 2080 Ti Phoenix Akti...     130  1.157,85"
      ]
     },
     "execution_count": 6,
     "metadata": {},
     "output_type": "execute_result"
    }
   ],
   "source": [
    "gpus_df.head()"
   ]
  },
  {
   "cell_type": "markdown",
   "metadata": {},
   "source": [
    "Splitten wäre im nachfolgenden Absatz wohl sinnvoller gewesen."
   ]
  },
  {
   "cell_type": "code",
   "execution_count": 7,
   "metadata": {},
   "outputs": [],
   "source": [
    "def clean_and_enrich_df(gpus_df):\n",
    "    \n",
    "\n",
    "    gpus_df[\"no_sold\"]=gpus_df[\"no_sold\"].str.replace(\".\",\"\")\n",
    "\n",
    "    gpus_df[\"price\"]=gpus_df[\"price\"].str.replace(\".\",\"\")\n",
    "\n",
    "    gpus_df[\"price\"]=gpus_df[\"price\"].str.replace(\",\",\".\")\n",
    "\n",
    "    gpus_df[\"price\"]=pd.to_numeric(gpus_df[\"price\"])\n",
    "\n",
    "    type(gpus_df[\"price\"][123])\n",
    "\n",
    "    gpus_df[\"no_sold\"]=pd.to_numeric(gpus_df[\"no_sold\"])\n",
    "\n",
    "    gpus_df.loc[gpus_df[\"name\"].str.contains(\"2060 SUPER\"),\"gpu_model\"]=\"2060 SUPER\"\n",
    "\n",
    "    gpus_df.loc[gpus_df[\"name\"].str.contains(\"2070 SUPER\"),\"gpu_model\"]=\"2070 SUPER\"\n",
    "\n",
    "    gpus_df.loc[(gpus_df[\"name\"].str.contains(\"2060\"))&(gpus_df[\"gpu_model\"]!=\"2060 SUPER\"),\"gpu_model\"]=\"2060\"\n",
    "\n",
    "    gpus_df.loc[(gpus_df[\"name\"].str.contains(\"2070\"))&(gpus_df[\"gpu_model\"]!=\"2070 SUPER\"),\"gpu_model\"]=\"2070\"\n",
    "\n",
    "    gpus_df.loc[gpus_df[\"name\"].str.contains(\"2080 Ti\"),\"gpu_model\"]=\"2080 Ti\"\n",
    "\n",
    "    gpus_df.loc[(gpus_df[\"name\"].str.contains(\"2080\"))&(gpus_df[\"gpu_model\"]!=\"2080 Ti\"),\"gpu_model\"]=\"2080\"\n",
    "\n",
    "    gpus_df.loc[gpus_df[\"gpu_model\"].str.contains(\"2060|2070|2080\",na=False),\"arch\"]=\"Turing\"\n",
    "\n",
    "    gpus_df.loc[gpus_df[\"name\"].str.contains(\"5700\"),\"arch\"]=\"RDNA\"\n",
    "\n",
    "    gpus_df.loc[gpus_df[\"name\"].str.contains(\"5700 XT\"),\"gpu_model\"]=\"5700 XT\"\n",
    "\n",
    "    gpus_df.loc[(gpus_df[\"name\"].str.contains(\"5700\"))&(gpus_df[\"gpu_model\"].isnull()),\"gpu_model\"]=\"5700 Non-XT\"\n",
    "\n",
    "    gpus_df.loc[gpus_df[\"name\"].str.contains(\"Vega\"),\"arch\"]=\"Vega\"\n",
    "\n",
    "    gpus_df.loc[gpus_df[\"name\"].str.contains(\"Vega 56\"),\"gpu_model\"]=\"Vega56\"\n",
    "\n",
    "    gpus_df.loc[gpus_df[\"name\"].str.contains(\"Vega 64\"),\"gpu_model\"]=\"Vega64\"\n",
    "\n",
    "    gpus_df.loc[gpus_df[\"name\"].str.contains(\"1050|1060|1070|1080\",na=False),\"arch\"]=\"Pascal\"\n",
    "\n",
    "    gpus_df.loc[gpus_df[\"name\"].str.contains(\"1650|1660\",na=False),\"arch\"]=\"Turing\"\n",
    "\n",
    "    gpus_df.loc[gpus_df[\"name\"].str.contains(\"1050 Ti\"),\"gpu_model\"]=\"1050 Ti\"\n",
    "    gpus_df.loc[(gpus_df[\"name\"].str.contains(\"1050\"))&(gpus_df[\"gpu_model\"].isnull()),\"gpu_model\"]=\"1050\"\n",
    "\n",
    "    gpus_df.loc[gpus_df[\"name\"].str.contains(\"1060\"),\"gpu_model\"]=\"1060\"\n",
    "\n",
    "    gpus_df.loc[gpus_df[\"name\"].str.contains(\"1070 Ti\"),\"gpu_model\"]=\"1070 Ti\"\n",
    "    gpus_df.loc[(gpus_df[\"name\"].str.contains(\"1070\"))&(gpus_df[\"gpu_model\"].isnull()),\"gpu_model\"]=\"1070\"\n",
    "\n",
    "    gpus_df.loc[gpus_df[\"name\"].str.contains(\"1080 Ti\"),\"gpu_model\"]=\"1080 Ti\"\n",
    "    gpus_df.loc[(gpus_df[\"name\"].str.contains(\"1080\"))&(gpus_df[\"gpu_model\"].isnull()),\"gpu_model\"]=\"1080\"\n",
    "\n",
    "    gpus_df.loc[gpus_df[\"name\"].str.contains(\"1660 Ti\"),\"gpu_model\"]=\"1660 Ti\"\n",
    "    gpus_df.loc[(gpus_df[\"name\"].str.contains(\"1660\"))&(gpus_df[\"gpu_model\"].isnull()),\"gpu_model\"]=\"1660\"\n",
    "\n",
    "    gpus_df.loc[gpus_df[\"name\"].str.contains(\"1650\"),\"gpu_model\"]=\"1650\"\n",
    "\n",
    "    gpus_df.loc[gpus_df[\"name\"].str.contains(\"590\"),\"gpu_model\"]=\"590\"\n",
    "\n",
    "    gpus_df.loc[gpus_df[\"name\"].str.contains(\"580\"),\"gpu_model\"]=\"580\"\n",
    "\n",
    "    gpus_df.loc[(gpus_df[\"name\"].str.contains(\"570\"))&(gpus_df[\"gpu_model\"].isnull()),\"gpu_model\"]=\"570\"\n",
    "\n",
    "    gpus_df.loc[gpus_df[\"name\"].str.contains(\"560\"),\"gpu_model\"]=\"560\"\n",
    "\n",
    "    gpus_df.loc[gpus_df[\"name\"].str.contains(\"550\"),\"gpu_model\"]=\"550\"\n",
    "\n",
    "    gpus_df.loc[gpus_df[\"name\"].str.contains(\"VII\"),\"gpu_model\"]=\"RadeonVII\"\n",
    "\n",
    "    gpus_df.loc[gpus_df[\"name\"].str.contains(\"VII\"),\"arch\"]=\"Vega\"\n",
    "\n",
    "    gpus_df.loc[(gpus_df[\"name\"].str.contains(\"590|580|570|560|550\"))&(gpus_df[\"arch\"].isnull()),\"arch\"]=\"Polaris\"\n",
    "\n",
    "    gpus_df.loc[gpus_df[\"arch\"].str.contains(\"Turing|Pascal\",na=False),\"manufacturer\"]=\"Nvidia\"\n",
    "\n",
    "    gpus_df.loc[gpus_df[\"arch\"].str.contains(\"Polaris|Vega|RDNA\",na=False),\"manufacturer\"]=\"AMD\"\n",
    "\n",
    "    gpus_df[\"vram_size\"]=gpus_df[\"name\"].str.split(expand=True)[0]\n",
    "    \n",
    "    return gpus_df"
   ]
  },
  {
   "cell_type": "code",
   "execution_count": 8,
   "metadata": {},
   "outputs": [],
   "source": [
    "gpus_df=clean_and_enrich_df(gpus_df)"
   ]
  },
  {
   "cell_type": "code",
   "execution_count": 9,
   "metadata": {},
   "outputs": [
    {
     "data": {
      "text/plain": [
       "name            0\n",
       "no_sold         0\n",
       "price           0\n",
       "gpu_model       0\n",
       "arch            0\n",
       "manufacturer    0\n",
       "vram_size       0\n",
       "dtype: int64"
      ]
     },
     "execution_count": 9,
     "metadata": {},
     "output_type": "execute_result"
    }
   ],
   "source": [
    "gpus_df.isnull().sum()"
   ]
  },
  {
   "cell_type": "code",
   "execution_count": 10,
   "metadata": {},
   "outputs": [],
   "source": [
    "from datetime import datetime"
   ]
  },
  {
   "cell_type": "code",
   "execution_count": 11,
   "metadata": {},
   "outputs": [],
   "source": [
    "gpus_df[\"timestamp\"]=datetime.now()"
   ]
  },
  {
   "cell_type": "code",
   "execution_count": 12,
   "metadata": {
    "scrolled": true
   },
   "outputs": [
    {
     "data": {
      "text/html": [
       "<div>\n",
       "<style scoped>\n",
       "    .dataframe tbody tr th:only-of-type {\n",
       "        vertical-align: middle;\n",
       "    }\n",
       "\n",
       "    .dataframe tbody tr th {\n",
       "        vertical-align: top;\n",
       "    }\n",
       "\n",
       "    .dataframe thead th {\n",
       "        text-align: right;\n",
       "    }\n",
       "</style>\n",
       "<table border=\"1\" class=\"dataframe\">\n",
       "  <thead>\n",
       "    <tr style=\"text-align: right;\">\n",
       "      <th></th>\n",
       "      <th>name</th>\n",
       "      <th>no_sold</th>\n",
       "      <th>price</th>\n",
       "      <th>gpu_model</th>\n",
       "      <th>arch</th>\n",
       "      <th>manufacturer</th>\n",
       "      <th>vram_size</th>\n",
       "      <th>timestamp</th>\n",
       "    </tr>\n",
       "  </thead>\n",
       "  <tbody>\n",
       "    <tr>\n",
       "      <th>0</th>\n",
       "      <td>11GB MSI GeForce RTX 2080 Ti SEA HAWK X Hybrid...</td>\n",
       "      <td>60</td>\n",
       "      <td>1291.85</td>\n",
       "      <td>2080 Ti</td>\n",
       "      <td>Turing</td>\n",
       "      <td>Nvidia</td>\n",
       "      <td>11GB</td>\n",
       "      <td>2019-08-31 14:16:45.803157</td>\n",
       "    </tr>\n",
       "    <tr>\n",
       "      <th>1</th>\n",
       "      <td>11GB Palit GeForce RTX 2080 Ti GamingPro OC Ak...</td>\n",
       "      <td>340</td>\n",
       "      <td>1129.00</td>\n",
       "      <td>2080 Ti</td>\n",
       "      <td>Turing</td>\n",
       "      <td>Nvidia</td>\n",
       "      <td>11GB</td>\n",
       "      <td>2019-08-31 14:16:45.803157</td>\n",
       "    </tr>\n",
       "    <tr>\n",
       "      <th>2</th>\n",
       "      <td>11GB Palit GeForce RTX 2080 Ti Dual Aktiv PCIe...</td>\n",
       "      <td>430</td>\n",
       "      <td>1069.00</td>\n",
       "      <td>2080 Ti</td>\n",
       "      <td>Turing</td>\n",
       "      <td>Nvidia</td>\n",
       "      <td>11GB</td>\n",
       "      <td>2019-08-31 14:16:45.803157</td>\n",
       "    </tr>\n",
       "    <tr>\n",
       "      <th>3</th>\n",
       "      <td>11GB KFA2 GeForce RTX 2080 Ti EX (1-Click OC) ...</td>\n",
       "      <td>80</td>\n",
       "      <td>1039.00</td>\n",
       "      <td>2080 Ti</td>\n",
       "      <td>Turing</td>\n",
       "      <td>Nvidia</td>\n",
       "      <td>11GB</td>\n",
       "      <td>2019-08-31 14:16:45.803157</td>\n",
       "    </tr>\n",
       "    <tr>\n",
       "      <th>4</th>\n",
       "      <td>11GB Gainward GeForce RTX 2080 Ti Phoenix Akti...</td>\n",
       "      <td>130</td>\n",
       "      <td>1157.85</td>\n",
       "      <td>2080 Ti</td>\n",
       "      <td>Turing</td>\n",
       "      <td>Nvidia</td>\n",
       "      <td>11GB</td>\n",
       "      <td>2019-08-31 14:16:45.803157</td>\n",
       "    </tr>\n",
       "  </tbody>\n",
       "</table>\n",
       "</div>"
      ],
      "text/plain": [
       "                                                name  no_sold    price  \\\n",
       "0  11GB MSI GeForce RTX 2080 Ti SEA HAWK X Hybrid...       60  1291.85   \n",
       "1  11GB Palit GeForce RTX 2080 Ti GamingPro OC Ak...      340  1129.00   \n",
       "2  11GB Palit GeForce RTX 2080 Ti Dual Aktiv PCIe...      430  1069.00   \n",
       "3  11GB KFA2 GeForce RTX 2080 Ti EX (1-Click OC) ...       80  1039.00   \n",
       "4  11GB Gainward GeForce RTX 2080 Ti Phoenix Akti...      130  1157.85   \n",
       "\n",
       "  gpu_model    arch manufacturer vram_size                  timestamp  \n",
       "0   2080 Ti  Turing       Nvidia      11GB 2019-08-31 14:16:45.803157  \n",
       "1   2080 Ti  Turing       Nvidia      11GB 2019-08-31 14:16:45.803157  \n",
       "2   2080 Ti  Turing       Nvidia      11GB 2019-08-31 14:16:45.803157  \n",
       "3   2080 Ti  Turing       Nvidia      11GB 2019-08-31 14:16:45.803157  \n",
       "4   2080 Ti  Turing       Nvidia      11GB 2019-08-31 14:16:45.803157  "
      ]
     },
     "execution_count": 12,
     "metadata": {},
     "output_type": "execute_result"
    }
   ],
   "source": [
    "gpus_df.head()"
   ]
  },
  {
   "cell_type": "code",
   "execution_count": 13,
   "metadata": {},
   "outputs": [],
   "source": [
    "t_stamp_string=\"_\"+str(datetime.today().year)+\"_\"+str(datetime.today().month)+\"_\"+str(datetime.today().day)+\"_\"+str(datetime.today().hour)"
   ]
  },
  {
   "cell_type": "code",
   "execution_count": 14,
   "metadata": {},
   "outputs": [],
   "source": [
    "gpus_df.to_csv(r\"C:\\Users\\Acedia23\\Documents\\Python\\Own Projects\\gpus_df{}.csv\".format(t_stamp_string))"
   ]
  }
 ],
 "metadata": {
  "kernelspec": {
   "display_name": "Python 3",
   "language": "python",
   "name": "python3"
  },
  "language_info": {
   "codemirror_mode": {
    "name": "ipython",
    "version": 3
   },
   "file_extension": ".py",
   "mimetype": "text/x-python",
   "name": "python",
   "nbconvert_exporter": "python",
   "pygments_lexer": "ipython3",
   "version": "3.6.5"
  }
 },
 "nbformat": 4,
 "nbformat_minor": 2
}
